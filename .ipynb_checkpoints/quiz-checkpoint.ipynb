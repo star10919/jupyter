{
 "cells": [
  {
   "cell_type": "code",
   "execution_count": 1,
   "id": "63578bea",
   "metadata": {},
   "outputs": [],
   "source": [
    "import pandas as pd\n",
    "import numpy as np"
   ]
  },
  {
   "cell_type": "code",
   "execution_count": null,
   "id": "725e097f",
   "metadata": {},
   "outputs": [],
   "source": [
    "# 22. 다음 객체에서 키값 A와 중복된 값이 제거된 1,2,3,4,5,6,7 이 출력되는 코드를 작성\n",
    "df = pd.DataFrame({'A': [1, 2, 2, 3, 4, 5, 5, 5, 6, 7, 7]})"
   ]
  },
  {
   "cell_type": "code",
   "execution_count": null,
   "id": "1a8f741f",
   "metadata": {},
   "outputs": [],
   "source": [
    "# 23. 다음 객체에서 행의 각 요소에서 행의 평균을 뺀 값을 출력\n",
    "df = pd.DataFrame(np.random.random(size=(5, 3)))"
   ]
  },
  {
   "cell_type": "code",
   "execution_count": null,
   "id": "19092052",
   "metadata": {},
   "outputs": [],
   "source": [
    "# 24. 다음 객체에서 가장 작은 합계를 가진 숫자열의 열을 출력\n",
    "df = pd.DataFrame(np.random.random(size=(5, 10)), columns=list('abcdefghij'))"
   ]
  },
  {
   "cell_type": "code",
   "execution_count": null,
   "id": "c490537d",
   "metadata": {},
   "outputs": [],
   "source": [
    "# 25. 다음 객체에서 중복된 값이 없는 유니크한 열의 카운트 출력(중복되지 않은 행은 몇 개..)\n",
    "df = pd.DataFrame(np.random.randint(0, 2, size=(10, 3)))"
   ]
  },
  {
   "cell_type": "code",
   "execution_count": null,
   "id": "9fec81a9",
   "metadata": {},
   "outputs": [],
   "source": [
    "# 26. 객체의 각 행에 대해 세번째 NaN 값이 들어 있는 열을 찾으시오. 일련의 열 레이블을 반환해야 합니다.\n",
    "# 답은 e, c, d, h, d 입니다.\n",
    "nan = np.nan\n",
    "data = [[0.04,  nan,  nan, 0.25,  nan, 0.43, 0.71, 0.51,  nan,  nan],\n",
    "        [ nan,  nan,  nan, 0.04, 0.76,  nan,  nan, 0.67, 0.76, 0.16],\n",
    "        [ nan,  nan, 0.5 ,  nan, 0.31, 0.4 ,  nan,  nan, 0.24, 0.01],\n",
    "        [0.49,  nan,  nan, 0.62, 0.73, 0.26, 0.85,  nan,  nan,  nan],\n",
    "        [ nan,  nan, 0.41,  nan, 0.05,  nan, 0.61,  nan, 0.48, 0.68]]\n",
    "columns = list('abcdefghij')\n",
    "df = pd.DataFrame(data, columns=columns)"
   ]
  },
  {
   "cell_type": "code",
   "execution_count": null,
   "id": "f66102ba",
   "metadata": {},
   "outputs": [],
   "source": [
    "# 27. 다음 객체에서 grps 에서 a, b, c 별로 가장 큰 값을 찾으시오.\n",
    "# 출력 결과는 \n",
    "#  grps\n",
    "#   a    409\n",
    "#   b    156\n",
    "#   c    345\n",
    "# 이렇게 나옵니다.\n",
    "df = pd.DataFrame({'grps': list('aaabbcaabcccbbc'), \n",
    "                   'vals': [12,345,3,1,45,14,4,52,54,23,235,21,57,3,87]})"
   ]
  },
  {
   "cell_type": "code",
   "execution_count": null,
   "id": "2c10a031",
   "metadata": {},
   "outputs": [],
   "source": [
    "# 28 다음 객체를 list 로 변환하시오\n",
    "df = pd.DataFrame({'A':[1,2,3], 'B':[4,5,6]})"
   ]
  },
  {
   "cell_type": "code",
   "execution_count": null,
   "id": "83c5b571",
   "metadata": {},
   "outputs": [],
   "source": [
    "# 29 다음 객체를 dictionary 로 변환하시오\n",
    "df = pd.DataFrame({'A':[1,2,3], 'B':[4,5,6]})"
   ]
  },
  {
   "cell_type": "code",
   "execution_count": null,
   "id": "714aea7d",
   "metadata": {},
   "outputs": [],
   "source": [
    "# 30 다음 객체를 customer_id 를 인덱스로하고 product_code 를 컬럼으로, purchare_amount 를 값으로, 재구성하시오\n",
    "df = pd.DataFrame({\"customer_id\":['kim','lee','park','song','yoon','kang','tak','ryu','jang'],\n",
    "               \"product_code\":['com','phone','tv','com','phone','tv','com','phone','tv'],\n",
    "               \"grade\":['A','A','A','A','A','A','B','B','B'],\n",
    "               \"purchase_amount\":[30,10,0,40,15,30,0,0,10]})\n",
    "df"
   ]
  },
  {
   "cell_type": "code",
   "execution_count": null,
   "id": "d7f7c0c7",
   "metadata": {},
   "outputs": [],
   "source": [
    "# 31 30번 객체를 \n",
    "#    customer_id 와 grade 를 인덱스로하고 product_code 를 컬럼으로, \n",
    "#    purchare_amount 를 값으로, 재구성하시오"
   ]
  }
 ],
 "metadata": {
  "kernelspec": {
   "display_name": "Python 3",
   "language": "python",
   "name": "python3"
  },
  "language_info": {
   "codemirror_mode": {
    "name": "ipython",
    "version": 3
   },
   "file_extension": ".py",
   "mimetype": "text/x-python",
   "name": "python",
   "nbconvert_exporter": "python",
   "pygments_lexer": "ipython3",
   "version": "3.8.8"
  }
 },
 "nbformat": 4,
 "nbformat_minor": 5
}
